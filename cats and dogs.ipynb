{
 "cells": [
  {
   "cell_type": "code",
   "execution_count": null,
   "id": "9173023c-25b1-429a-bda5-0381b0cc7e07",
   "metadata": {},
   "outputs": [],
   "source": [
    "# 1. Library Imports\n",
    "from tensorflow.keras.models import Sequential\n",
    "from tensorflow.keras.layers import Conv2D, MaxPooling2D, Dense, Flatten\n",
    "import numpy as np\n",
    "import matplotlib.pyplot as plt\n",
    "import random\n"
   ]
  },
  {
   "cell_type": "code",
   "execution_count": null,
   "id": "386e5d83-7753-4793-b074-fe0cf0657562",
   "metadata": {},
   "outputs": [],
   "source": [
    "# Reshape data (from flat to 100x100x3)\n",
    "X_train = X_train.reshape(-1, 100, 100, 3)\n",
    "X_test = X_test.reshape(-1, 100, 100, 3)\n",
    "\n",
    "# Normalize pixel values from 0-255 to 0-1\n",
    "X_train = X_train / 255.0\n",
    "X_test = X_test / 255.0\n"
   ]
  },
  {
   "cell_type": "code",
   "execution_count": null,
   "id": "e1a1b187-2276-4de3-b0a1-9eac37a45f08",
   "metadata": {},
   "outputs": [],
   "source": [
    "idx = random.randint(0, len(X_train) - 1)\n",
    "plt.imshow(X_train[idx])\n",
    "plt.title(f\"Label: {'cat' if y_train[idx]==1 else 'dog'}\")\n",
    "plt.axis('off')\n",
    "plt.show()\n"
   ]
  },
  {
   "cell_type": "code",
   "execution_count": null,
   "id": "65816f5d-d8c2-4c6d-8ded-347b1ff7c356",
   "metadata": {},
   "outputs": [],
   "source": [
    "model = Sequential([\n",
    "    Conv2D(32, (3, 3), activation='relu', input_shape=(100, 100, 3)),\n",
    "    MaxPooling2D((2, 2)),\n",
    "    Conv2D(32, (3, 3), activation='relu'),\n",
    "    MaxPooling2D((2, 2)),\n",
    "    Flatten(),\n",
    "    Dense(64, activation='relu'),\n",
    "    Dense(1, activation='sigmoid')\n",
    "])\n"
   ]
  },
  {
   "cell_type": "code",
   "execution_count": null,
   "id": "5ec4f7c1-485a-41f1-bb4c-a9149dc24c4f",
   "metadata": {},
   "outputs": [],
   "source": [
    "model.compile(\n",
    "    loss='binary_crossentropy',\n",
    "    optimizer='adam',\n",
    "    metrics=['accuracy']\n",
    ")\n"
   ]
  },
  {
   "cell_type": "code",
   "execution_count": null,
   "id": "e31b0034-4e21-4c36-91b2-281d68c937bf",
   "metadata": {},
   "outputs": [],
   "source": [
    "test_loss, test_accuracy = model.evaluate(X_test, y_test)\n",
    "print(f\"Test Accuracy: {test_accuracy:.4f}\")\n"
   ]
  },
  {
   "cell_type": "code",
   "execution_count": null,
   "id": "d9c11af5-0e12-4324-8fc1-e4ebe520ca0a",
   "metadata": {},
   "outputs": [],
   "source": [
    "idx = random.randint(0, len(X_test) - 1)\n",
    "plt.imshow(X_test[idx])\n",
    "plt.axis('off')\n",
    "plt.show()\n",
    "\n",
    "# Reshape for prediction (model expects batch dimension)\n",
    "prediction = model.predict(X_test[idx].reshape(1, 100, 100, 3))\n",
    "predicted_class = 1 if prediction > 0.5 else 0\n",
    "if predicted_class == 0:\n",
    "    print(\"Model says it is a dog\")\n",
    "else:\n",
    "    print(\"Model says it is a cat\")\n"
   ]
  }
 ],
 "metadata": {
  "kernelspec": {
   "display_name": "Python 3 (ipykernel)",
   "language": "python",
   "name": "python3"
  },
  "language_info": {
   "codemirror_mode": {
    "name": "ipython",
    "version": 3
   },
   "file_extension": ".py",
   "mimetype": "text/x-python",
   "name": "python",
   "nbconvert_exporter": "python",
   "pygments_lexer": "ipython3",
   "version": "3.13.1"
  }
 },
 "nbformat": 4,
 "nbformat_minor": 5
}
